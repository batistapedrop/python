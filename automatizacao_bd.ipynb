{
 "cells": [
  {
   "cell_type": "code",
   "execution_count": 101,
   "id": "c45ec67c-e198-46c5-a07c-e83e0cfe351d",
   "metadata": {},
   "outputs": [],
   "source": [
    "import openpyxl\n",
    "\n",
    "# Abra o arquivo Excel\n",
    "workbook = openpyxl.load_workbook('tabela.xlsx')\n",
    "\n",
    "# Acesse a planilha desejada\n",
    "sheet = workbook['Sheet1']\n",
    "\n",
    "# Especifica a coluna\n",
    "coluna_modificada = 'E'\n",
    "\n",
    "# Itera sobre as células da coluna especificada\n",
    "for cell in sheet[coluna_modificada]:\n",
    "    # Verifica se o valor da célula é um número\n",
    "    if isinstance(cell.value, (int, float)):\n",
    "        # Converte o número para uma string com duas casas decimais e atualiza o valor da célula\n",
    "        cell.value = \"{:.2f}\".format(cell.value)\n",
    "\n",
    "# Salva as alterações no arquivo Excel\n",
    "workbook.save('tabela.xlsx')\n"
   ]
  },
  {
   "cell_type": "code",
   "execution_count": 102,
   "id": "19d881d4-d1b8-46fd-af8a-ee93bc54a43c",
   "metadata": {},
   "outputs": [],
   "source": [
    "from selenium import webdriver\n",
    "\n",
    "navegador = webdriver.Chrome()\n",
    "navegador.get(\"https://forms.gle/TTLF1ASBy6x21ckz8\")"
   ]
  },
  {
   "cell_type": "code",
   "execution_count": 103,
   "id": "aaf638bf-9116-491f-a51a-9166f80bb3a6",
   "metadata": {
    "scrolled": true
   },
   "outputs": [],
   "source": [
    "import pandas as pd\n",
    "\n",
    "tabela = pd.read_excel(\"tabela.xlsx\")"
   ]
  },
  {
   "cell_type": "code",
   "execution_count": null,
   "id": "83621c18-f1c0-4e74-ba04-9b177b6be7d4",
   "metadata": {},
   "outputs": [],
   "source": [
    "for i, produto in enumerate(tabela[\"produto\"]):\n",
    "    soma = tabela.loc[i, \"soma de peças\"]\n",
    "    sku = tabela.loc[i, \"sku\"]\n",
    "    ncm = tabela.loc[i, \"ncm\"]\n",
    "    custo = tabela.loc[i, \"custo\"]\n",
    "\n",
    "    navegador.get(\"https://forms.gle/TTLF1ASBy6x21ckz8\")\n",
    "    \n",
    "    # Preencher rótulos de linha\n",
    "    navegador.find_element(\"xpath\", '//*[@id=\"mG61Hd\"]/div[2]/div/div[2]/div[1]/div/div/div[2]/div/div[1]/div[2]/textarea').send_keys(produto)\n",
    "    # Preencher soma de peças\n",
    "    navegador.find_element(\"xpath\", '//*[@id=\"mG61Hd\"]/div[2]/div/div[2]/div[2]/div/div/div[2]/div/div[1]/div[2]/textarea').send_keys(str(soma))\n",
    "    # Preencher SKU\n",
    "    navegador.find_element(\"xpath\", '//*[@id=\"mG61Hd\"]/div[2]/div/div[2]/div[3]/div/div/div[2]/div/div[1]/div[2]/textarea').send_keys(str(sku))\n",
    "    # Preencher NCM\n",
    "    navegador.find_element(\"xpath\", '//*[@id=\"mG61Hd\"]/div[2]/div/div[2]/div[4]/div/div/div[2]/div/div[1]/div[2]/textarea').send_keys(str(ncm))\n",
    "    # Preencher Custo\n",
    "    navegador.find_element(\"xpath\", '//*[@id=\"mG61Hd\"]/div[2]/div/div[2]/div[5]/div/div/div[2]/div/div[1]/div[2]/textarea').send_keys(str(custo))\n",
    "    # Clicar no botão\n",
    "    navegador.find_element(\"xpath\", '//*[@id=\"mG61Hd\"]/div[2]/div/div[3]/div[1]/div[1]/div/span/span').click()"
   ]
  }
 ],
 "metadata": {
  "kernelspec": {
   "display_name": "Python 3 (ipykernel)",
   "language": "python",
   "name": "python3"
  },
  "language_info": {
   "codemirror_mode": {
    "name": "ipython",
    "version": 3
   },
   "file_extension": ".py",
   "mimetype": "text/x-python",
   "name": "python",
   "nbconvert_exporter": "python",
   "pygments_lexer": "ipython3",
   "version": "3.11.7"
  }
 },
 "nbformat": 4,
 "nbformat_minor": 5
}
